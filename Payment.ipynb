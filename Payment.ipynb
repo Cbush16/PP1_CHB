{
 "cells": [
  {
   "cell_type": "code",
   "execution_count": 1,
   "id": "380e29f2-7e6d-47d0-ba88-82ae56156de7",
   "metadata": {
    "tags": []
   },
   "outputs": [],
   "source": [
    "def mp(p, r, n): \n",
    "    mir = r / 12\n",
    "    monthly_payment = p * (mir * (1 + mir)**n) / ((1 + mir)**n - 1)\n",
    "    return monthly_payment\n",
    "\n",
    "def ip(p, r, n, c):\n",
    "    remaining_principal = p * (1 - (c / n))\n",
    "    mir = r / 12\n",
    "    interest_payment = remaining_principal * mir\n",
    "    return interest_payment\n",
    "\n",
    "def pp(a, r, n, c):\n",
    "    remaining_principal = a * ((1 + r/12)**n - (1 + r/12)**c) / ((1 + r/12)**n - 1)\n",
    "    interest_payment = a * r / 12\n",
    "    principal_payment = remaining_principal - interest_payment\n",
    "    return principal_payment"
   ]
  },
  {
   "cell_type": "code",
   "execution_count": null,
   "id": "536a3e28-a625-4c54-9e53-c5caf6c2a35b",
   "metadata": {},
   "outputs": [],
   "source": []
  }
 ],
 "metadata": {
  "kernelspec": {
   "display_name": "Python 3 (ipykernel)",
   "language": "python",
   "name": "python3"
  },
  "language_info": {
   "codemirror_mode": {
    "name": "ipython",
    "version": 3
   },
   "file_extension": ".py",
   "mimetype": "text/x-python",
   "name": "python",
   "nbconvert_exporter": "python",
   "pygments_lexer": "ipython3",
   "version": "3.11.5"
  }
 },
 "nbformat": 4,
 "nbformat_minor": 5
}
