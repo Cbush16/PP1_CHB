{
 "cells": [
  {
   "cell_type": "code",
   "execution_count": 1,
   "id": "76d47b66-5360-4910-b682-6c002b656b0e",
   "metadata": {
    "tags": []
   },
   "outputs": [
    {
     "ename": "ModuleNotFoundError",
     "evalue": "No module named 'payment'",
     "output_type": "error",
     "traceback": [
      "\u001b[1;31m---------------------------------------------------------------------------\u001b[0m",
      "\u001b[1;31mModuleNotFoundError\u001b[0m                       Traceback (most recent call last)",
      "Cell \u001b[1;32mIn[1], line 2\u001b[0m\n\u001b[0;32m      1\u001b[0m \u001b[38;5;28;01mimport\u001b[39;00m \u001b[38;5;21;01mstreamlit\u001b[39;00m \u001b[38;5;28;01mas\u001b[39;00m \u001b[38;5;21;01mst\u001b[39;00m\n\u001b[1;32m----> 2\u001b[0m \u001b[38;5;28;01mimport\u001b[39;00m \u001b[38;5;21;01mpayment\u001b[39;00m \u001b[38;5;28;01mas\u001b[39;00m \u001b[38;5;21;01mpa\u001b[39;00m\n\u001b[0;32m      4\u001b[0m st\u001b[38;5;241m.\u001b[39mtitle(\u001b[38;5;124m\"\u001b[39m\u001b[38;5;124mPayment Calculator\u001b[39m\u001b[38;5;124m\"\u001b[39m)\n\u001b[0;32m      5\u001b[0m st\u001b[38;5;241m.\u001b[39mdivider()\n",
      "\u001b[1;31mModuleNotFoundError\u001b[0m: No module named 'payment'"
     ]
    }
   ],
   "source": [
    "import streamlit as st\n",
    "import payment as pa\n",
    "\n",
    "st.title(\"Payment Calculator\")\n",
    "st.divider()\n",
    "\n",
    "with st.sidebar:\n",
    "    st.subheader(\"Options\")\n",
    "    option = st.radio(\"Choose an option\", [\"Use Calculators\", \"View Payment Functions\"])\n",
    "\n",
    "if option == \"View Payment Functions\":\n",
    "    with open(\"payment.py\", \"r\") as file:\n",
    "        payment_functions = file.read()\n",
    "\n",
    "    st.write(\"Payment functions in payment.py:\")\n",
    "    st.code(payment_functions, language=\"python\")\n",
    "else:\n",
    "    with st.sidebar:\n",
    "        st.subheader(\"Calculators\")\n",
    "        scale = st.radio(\"What payment calculator?\",\n",
    "                         [\"***MP***\", \"***IP***\", \"***PP***\"],\n",
    "                         captions= [\"Monthly Payment\",\n",
    "                                    \"Interest Payment\",\n",
    "                                    \"Principal Payment\"])\n",
    "    if scale == \"***MP***\":\n",
    "        p = 'Enter the principal'\n",
    "        r = 'Enter the monthly interest rate in decimal form'\n",
    "        n = 'Enter the number of payments'\n",
    "        P = st.number_input(p, step=1.0, value=0.0)\n",
    "        R = st.number_input(r, step=0.001, value=0.000)\n",
    "        N = st.number_input(n, step=1.0, value=0.0)\n",
    "        if st.button('Calculate'):\n",
    "            Mp = pa.mp(P, R, N)\n",
    "            st.metric(\"Monthly payment\", f'${Mp:.2f}')\n",
    "    \n",
    "    elif scale == \"***IP***\":\n",
    "        p = 'Enter the principal'\n",
    "        r = 'Enter the monthly interest rate in decimal form'\n",
    "        n = 'Enter the number of payments'\n",
    "        c = 'Enter the current payment month'\n",
    "        P = st.number_input(p, step=1.0, value=0.0)\n",
    "        R = st.number_input(r, step=0.01, value=0.0)\n",
    "        N = st.number_input(n, step=1.0, value=0.0)\n",
    "        C = st.number_input(c, step=1.0, value=0.0)\n",
    "        if st.button('Calculate'):\n",
    "            Ip = pa.ip(P, R, N, C)\n",
    "            st.metric(\"Interest payment\", f'${Ip:.2f}')\n",
    "    \n",
    "    else:\n",
    "        a = 'Enter the total loan amount'\n",
    "        r = 'Enter the interest rate in decimal form'\n",
    "        n = 'Enter the number of payments'\n",
    "        c = 'Enter the current payment month'\n",
    "        A = st.number_input(a, step=1.0, value=0.0)\n",
    "        R = st.number_input(r, step=0.01, value=0.0)\n",
    "        N = st.number_input(n, step=1.0, value=0.0)\n",
    "        C = st.number_input(c, step=1.0, value=0.0)\n",
    "        if st.button('Calculate'):\n",
    "            Pp = pa.pp(A, R, N, C)\n",
    "            st.metric(\"Principal payment\", f'${Pp:.2f}')"
   ]
  },
  {
   "cell_type": "code",
   "execution_count": null,
   "id": "ce0b29ec-9285-4603-a0ff-085fddadfe1d",
   "metadata": {},
   "outputs": [],
   "source": []
  }
 ],
 "metadata": {
  "kernelspec": {
   "display_name": "Python 3 (ipykernel)",
   "language": "python",
   "name": "python3"
  },
  "language_info": {
   "codemirror_mode": {
    "name": "ipython",
    "version": 3
   },
   "file_extension": ".py",
   "mimetype": "text/x-python",
   "name": "python",
   "nbconvert_exporter": "python",
   "pygments_lexer": "ipython3",
   "version": "3.11.5"
  }
 },
 "nbformat": 4,
 "nbformat_minor": 5
}
